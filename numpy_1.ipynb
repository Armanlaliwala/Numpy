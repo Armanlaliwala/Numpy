{
 "cells": [
  {
   "cell_type": "code",
   "execution_count": 1,
   "id": "8f8c0527-d58e-4491-acad-d91ca198cc63",
   "metadata": {},
   "outputs": [
    {
     "ename": "ModuleNotFoundError",
     "evalue": "No module named 'numpy'",
     "output_type": "error",
     "traceback": [
      "\u001b[1;31m---------------------------------------------------------------------------\u001b[0m",
      "\u001b[1;31mModuleNotFoundError\u001b[0m                       Traceback (most recent call last)",
      "Cell \u001b[1;32mIn[1], line 1\u001b[0m\n\u001b[1;32m----> 1\u001b[0m \u001b[38;5;28;01mimport\u001b[39;00m \u001b[38;5;21;01mnumpy\u001b[39;00m \u001b[38;5;28;01mas\u001b[39;00m \u001b[38;5;21;01mnp\u001b[39;00m \u001b[38;5;66;03m# type: ignore\u001b[39;00m\n",
      "\u001b[1;31mModuleNotFoundError\u001b[0m: No module named 'numpy'"
     ]
    }
   ],
   "source": [
    "import numpy as np # type: ignore"
   ]
  },
  {
   "cell_type": "code",
   "execution_count": null,
   "id": "53c1f8e0",
   "metadata": {},
   "outputs": [],
   "source": [
    "myarr = np.array([5,6,4,88,44])"
   ]
  },
  {
   "cell_type": "code",
   "execution_count": null,
   "id": "f6757b58",
   "metadata": {},
   "outputs": [],
   "source": [
    "myarr"
   ]
  },
  {
   "cell_type": "code",
   "execution_count": null,
   "id": "65824c8d",
   "metadata": {},
   "outputs": [],
   "source": [
    "myarr = np.array([5,6,4,88,44], np.int32) #np.int32 this is used for memory managment "
   ]
  },
  {
   "cell_type": "code",
   "execution_count": null,
   "id": "60a4b9c3",
   "metadata": {},
   "outputs": [],
   "source": [
    "myarr[0] #it prints the index"
   ]
  },
  {
   "cell_type": "code",
   "execution_count": null,
   "id": "490d99ab",
   "metadata": {},
   "outputs": [],
   "source": [
    "myarr2 = np.array([[5,6,4,88,44]]) # [[5,6,4,8]] this how we can create a 2D array "
   ]
  },
  {
   "cell_type": "code",
   "execution_count": null,
   "id": "77eb0fdd",
   "metadata": {},
   "outputs": [],
   "source": []
  }
 ],
 "metadata": {
  "kernelspec": {
   "display_name": "Python 3 (ipykernel)",
   "language": "python",
   "name": "python3"
  },
  "language_info": {
   "codemirror_mode": {
    "name": "ipython",
    "version": 3
   },
   "file_extension": ".py",
   "mimetype": "text/x-python",
   "name": "python",
   "nbconvert_exporter": "python",
   "pygments_lexer": "ipython3",
   "version": "3.12.4"
  }
 },
 "nbformat": 4,
 "nbformat_minor": 5
}
